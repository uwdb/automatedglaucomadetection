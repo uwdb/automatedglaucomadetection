{
 "cells": [
  {
   "cell_type": "code",
   "execution_count": 2,
   "metadata": {},
   "outputs": [],
   "source": [
    "import pandas as pd\n",
    "import numpy as np\n",
    "import xgboost as xgb\n",
    "import shap\n",
    "from sklearn.datasets import dump_svmlight_file\n",
    "import numpy as np\n",
    "import matplotlib.pylab as pl\n",
    "\n",
    "tr_fn='tr_bm_gl_nm.txt'\n",
    "val_fn='val_bm_gl_nm.txt'\n",
    "te_fn='cli_test_bm_gl_nm.txt'\n",
    "sus_fn='sus_bm_gl_nm.txt'\n",
    "\n",
    "tr_fn_bm3='new_tr_bm_gl_nm_bm3.txt'\n",
    "val_fn_bm3='new_val_bm_gl_nm_bm3.txt'\n",
    "te_fn_bm3='new_cli_test_bm_gl_nm_bm3.txt'\n",
    "sus_fn_bm3='new_sus_bm_gl_nm_bm3.txt'\n",
    "\n",
    "\n",
    "svm_tr='svmlight_new_train_bm_gl_nm_1.dat'\n",
    "svm_tr_b2='svmlight_new_train_bm_gl_nm_2.dat'\n",
    "svm_tr_b3='svmlight_new_train_bm_gl_nm_3.dat'\n",
    "\n",
    "svm_val='svmlight_new_val_bm_gl_nm_1.dat'\n",
    "svm_val_b2='svmlight_new_val_bm_gl_nm_2.dat'\n",
    "svm_val_b3='svmlight_new_val_bm_gl_nm_3.dat'\n",
    "\n",
    "svm_te='svmlight_new_cli_test_bm_gl_nm_1.dat'\n",
    "svm_te_b2='svmlight_new_cli_test_bm_gl_nm_2.dat'\n",
    "svm_te_b3='svmlight_new_cli_test_bm_gl_nm_3.dat'\n",
    "\n",
    "svm_sus='svmlight_new_sus_bm_gl_nm_1.dat'\n",
    "svm_sus_b2='svmlight_new_sus_bm_gl_nm_2.dat'\n",
    "svm_sus_b3='svmlight_new_sus_bm_gl_nm_3.dat'\n"
   ]
  },
  {
   "cell_type": "code",
   "execution_count": 3,
   "metadata": {},
   "outputs": [
    {
     "name": "stdout",
     "output_type": "stream",
     "text": [
      "[11:41:43] 1439x3 matrix with 4317 entries loaded from /home/parmita/img_learning_tf/tf_keras/glaucoma/n_data/svmlight_new_train_bm_gl_nm_1_v2.dat\n",
      "[11:41:43] 78x3 matrix with 234 entries loaded from /home/parmita/img_learning_tf/tf_keras/glaucoma/n_data/svmlight_new_cli_test_bm_gl_nm_1_v2.dat\n",
      "[11:41:43] 118x3 matrix with 354 entries loaded from /home/parmita/img_learning_tf/tf_keras/glaucoma/n_data/svmlight_new_val_bm_gl_nm_1_v2.dat\n",
      "[0]\ttest-logloss:0.693086\n",
      "Will train until test-logloss hasn't improved in 20 rounds.\n",
      "Stopping. Best iteration:\n",
      "[311]\ttest-logloss:0.68615\n",
      "\n"
     ]
    }
   ],
   "source": [
    "dtrain = xgb.DMatrix(svm_tr)\n",
    "dtest = xgb.DMatrix(svm_te)\n",
    "dval=xgb.DMatrix(svm_val)\n",
    "params = {\n",
    "    \"eta\": 0.001,\n",
    "    \"objective\": \"binary:logistic\",\n",
    "    \"subsample\": 0.7,\n",
    "    \"eval_metric\": [\"logloss\"]\n",
    "}\n",
    "model = xgb.train(params, dtrain, 2000, evals = [(dval, \"test\")], verbose_eval=500, early_stopping_rounds=20)"
   ]
  },
  {
   "cell_type": "markdown",
   "metadata": {},
   "source": [
    "# BM1 "
   ]
  },
  {
   "cell_type": "code",
   "execution_count": 4,
   "metadata": {},
   "outputs": [
    {
     "name": "stdout",
     "output_type": "stream",
     "text": [
      "Original ROC area: 0.811\n",
      "Confidence interval for the score: [0.707 - 0.901]\n"
     ]
    },
    {
     "data": {
      "text/plain": [
       "(0.7071428571428572, 0.9006578947368421)"
      ]
     },
     "execution_count": 4,
     "metadata": {},
     "output_type": "execute_result"
    }
   ],
   "source": [
    "#Conf level for bm1\n",
    "from common.fig_utils import *\n",
    "preds = model.predict(dtest)\n",
    "te_data=pd.read_table(te_fn) \n",
    "y_true=te_data['l']\n",
    "y_pred=preds\n",
    "get_auc_roc(y_true,y_pred)"
   ]
  },
  {
   "cell_type": "code",
   "execution_count": 3,
   "metadata": {},
   "outputs": [
    {
     "name": "stdout",
     "output_type": "stream",
     "text": [
      "[14:28:46] 55x3 matrix with 165 entries loaded from /home/parmita/img_learning_tf/tf_keras/glaucoma/n_data/svmlight_new_sus_bm_gl_nm_1_v2.dat\n",
      "(55,)\n",
      "28.0 55 0.509090909090909\n",
      "Original acc : 0.509\n",
      "Confidence interval for the score: [0.364 - 0.636]\n"
     ]
    },
    {
     "data": {
      "text/plain": [
       "(0.36363636363636365, 0.6363636363636364)"
      ]
     },
     "execution_count": 3,
     "metadata": {},
     "output_type": "execute_result"
    }
   ],
   "source": [
    "#conf level with accuracy for dsus with bm1\n",
    "from common.fig_utils import *\n",
    "dsus=xgb.DMatrix(svm_sus)\n",
    "preds = model.predict(dsus)\n",
    "te_data=pd.read_table(sus_fn) \n",
    "\n",
    "\n",
    "te_data['preds']=preds\n",
    "print(preds.shape)\n",
    "cor=np.where(preds> 0.50, 1., 0.)\n",
    "print(sum(cor),len(cor),sum(cor)/len(cor))\n",
    "#te_data.to_csv('/home/parmita/glaucoma_results/gl_nm/OCT_data/densenet_16/bm1_sus_results.txt',sep='\\t',index=None)\n",
    "labels=np.ones(len(cor))\n",
    "get_acc(labels,cor)"
   ]
  },
  {
   "cell_type": "markdown",
   "metadata": {},
   "source": [
    "# Base line model 2"
   ]
  },
  {
   "cell_type": "code",
   "execution_count": 4,
   "metadata": {},
   "outputs": [
    {
     "name": "stdout",
     "output_type": "stream",
     "text": [
      "[14:29:01] 1439x13 matrix with 15529 entries loaded from /home/parmita/img_learning_tf/tf_keras/glaucoma/n_data/svmlight_new_train_bm_gl_nm_2_v2.dat\n",
      "[14:29:01] 78x13 matrix with 849 entries loaded from /home/parmita/img_learning_tf/tf_keras/glaucoma/n_data/svmlight_new_cli_test_bm_gl_nm_2_v2.dat\n",
      "[14:29:01] 118x13 matrix with 1257 entries loaded from /home/parmita/img_learning_tf/tf_keras/glaucoma/n_data/svmlight_new_val_bm_gl_nm_2_v2.dat\n",
      "[0]\ttest-logloss:0.693022\n",
      "Will train until test-logloss hasn't improved in 20 rounds.\n",
      "[500]\ttest-logloss:0.667207\n",
      "Stopping. Best iteration:\n",
      "[750]\ttest-logloss:0.664376\n",
      "\n"
     ]
    }
   ],
   "source": [
    "dtrain = xgb.DMatrix(svm_tr_b2)\n",
    "dtest = xgb.DMatrix(svm_te_b2)\n",
    "dval=xgb.DMatrix(svm_val_b2)\n",
    "params = {\n",
    "    \"eta\": 0.001,\n",
    "    \"objective\": \"binary:logistic\",\n",
    "    \"subsample\": 0.7,\n",
    "    \"eval_metric\": [\"logloss\"]\n",
    "}\n",
    "model = xgb.train(params, dtrain, 2000, evals = [(dval, \"test\")], verbose_eval=500, early_stopping_rounds=20)"
   ]
  },
  {
   "cell_type": "code",
   "execution_count": 24,
   "metadata": {},
   "outputs": [
    {
     "name": "stdout",
     "output_type": "stream",
     "text": [
      "Original ROC area: 0.878\n",
      "Confidence interval for the score: [0.790 - 0.952]\n"
     ]
    },
    {
     "data": {
      "text/plain": [
       "(0.7903757415952537, 0.9521885521885521)"
      ]
     },
     "execution_count": 24,
     "metadata": {},
     "output_type": "execute_result"
    }
   ],
   "source": [
    "#conf level and AUC for bm2\n",
    "preds = model.predict(dtest)\n",
    "te_data=pd.read_table(te_fn) \n",
    "y_true=te_data['l']\n",
    "y_pred=preds\n",
    "get_auc_roc(y_true,y_pred)"
   ]
  },
  {
   "cell_type": "markdown",
   "metadata": {},
   "source": [
    "# Base line model 3"
   ]
  },
  {
   "cell_type": "code",
   "execution_count": 6,
   "metadata": {},
   "outputs": [
    {
     "name": "stdout",
     "output_type": "stream",
     "text": [
      "[14:29:50] 2199x16 matrix with 30071 entries loaded from /home/parmita/img_learning_tf/tf_keras/glaucoma/n_data/svmlight_new_train_bm_gl_nm_3_v2.dat\n",
      "[14:29:50] 100x16 matrix with 1385 entries loaded from /home/parmita/img_learning_tf/tf_keras/glaucoma/n_data/svmlight_new_cli_test_bm_gl_nm_3_v2.dat\n",
      "[14:29:50] 177x16 matrix with 2416 entries loaded from /home/parmita/img_learning_tf/tf_keras/glaucoma/n_data/svmlight_new_val_bm_gl_nm_3_v2.dat\n",
      "[0]\ttest-logloss:0.693008\n",
      "Will train until test-logloss hasn't improved in 20 rounds.\n",
      "[500]\ttest-logloss:0.656709\n",
      "Stopping. Best iteration:\n",
      "[814]\ttest-logloss:0.651054\n",
      "\n"
     ]
    }
   ],
   "source": [
    "\n",
    "dtrain = xgb.DMatrix(svm_tr_b3)\n",
    "dtest = xgb.DMatrix(svm_te_b3)\n",
    "dval=xgb.DMatrix(svm_val_b3)\n",
    "params = {\n",
    "    \"eta\": 0.001,\n",
    "    \"objective\": \"binary:logistic\",\n",
    "    \"subsample\": 0.7,\n",
    "    \"eval_metric\": [\"logloss\"]\n",
    "}\n",
    "model = xgb.train(params, dtrain, 2000, evals = [(dval, \"test\")], verbose_eval=500, early_stopping_rounds=20)"
   ]
  },
  {
   "cell_type": "code",
   "execution_count": 16,
   "metadata": {},
   "outputs": [
    {
     "name": "stdout",
     "output_type": "stream",
     "text": [
      "Original ROC area: 0.923\n",
      "Confidence interval for the score: [0.867 - 0.967]\n"
     ]
    },
    {
     "data": {
      "text/plain": [
       "(0.8667466986794717, 0.9672727272727273)"
      ]
     },
     "execution_count": 16,
     "metadata": {},
     "output_type": "execute_result"
    }
   ],
   "source": [
    "#conf interval for AUC and bm3\n",
    "preds = model.predict(dtest)\n",
    "te_data=pd.read_table(te_fn_bm3) \n",
    "y_true=te_data['l']\n",
    "y_pred=preds\n",
    "get_auc_roc(y_true,y_pred)"
   ]
  },
  {
   "cell_type": "code",
   "execution_count": 7,
   "metadata": {},
   "outputs": [
    {
     "name": "stdout",
     "output_type": "stream",
     "text": [
      "[14:30:01] 98x16 matrix with 1348 entries loaded from /home/parmita/img_learning_tf/tf_keras/glaucoma/n_data/svmlight_new_sus_bm_gl_nm_3_v2.dat\n",
      "(98,)\n",
      "74.0 98 0.7551020408163265\n",
      "Original acc : 0.755\n",
      "Confidence interval for the score: [0.663 - 0.837]\n"
     ]
    },
    {
     "data": {
      "text/plain": [
       "(0.6632653061224489, 0.8367346938775511)"
      ]
     },
     "execution_count": 7,
     "metadata": {},
     "output_type": "execute_result"
    }
   ],
   "source": [
    "#conf level and Acc for bm3 on sus\n",
    "dsus=xgb.DMatrix(svm_sus_b3)\n",
    "preds = model.predict(dsus)\n",
    "te_data=pd.read_table(sus_fn_bm3) \n",
    "te_data['preds']=preds\n",
    "print(preds.shape)\n",
    "cor=np.where(preds> 0.50, 1., 0.)\n",
    "print(sum(cor),len(cor),sum(cor)/len(cor))\n",
    "labels=np.ones(len(cor))\n",
    "get_acc(labels,cor)\n",
    "#te_data.to_csv('/home/parmita/glaucoma_results/gl_nm/OCT_data/densenet_16/bm3_sus_results.txt',sep='\\t',index=None)"
   ]
  },
  {
   "cell_type": "code",
   "execution_count": null,
   "metadata": {},
   "outputs": [],
   "source": []
  }
 ],
 "metadata": {
  "kernelspec": {
   "display_name": "py3",
   "language": "python",
   "name": "py3"
  },
  "language_info": {
   "codemirror_mode": {
    "name": "ipython",
    "version": 3
   },
   "file_extension": ".py",
   "mimetype": "text/x-python",
   "name": "python",
   "nbconvert_exporter": "python",
   "pygments_lexer": "ipython3",
   "version": "3.5.0"
  }
 },
 "nbformat": 4,
 "nbformat_minor": 2
}
